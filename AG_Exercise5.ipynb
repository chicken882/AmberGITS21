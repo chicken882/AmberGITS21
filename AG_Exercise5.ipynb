{
 "cells": [
  {
   "cell_type": "code",
   "execution_count": 19,
   "metadata": {},
   "outputs": [],
   "source": [
    "#51°33'25.2\"N 178°48'15\"W \n",
    "#16°37'20\"N 120°19'12\"E \n",
    "#48°51'30.132\"N 2°17'40.132\"E"
   ]
  },
  {
   "cell_type": "code",
   "execution_count": 20,
   "metadata": {},
   "outputs": [],
   "source": [
    "def dd(direction,degrees,minutes,seconds):\n",
    "    return direction * (degrees + (minutes + seconds/60)/60)"
   ]
  },
  {
   "cell_type": "code",
   "execution_count": 21,
   "metadata": {},
   "outputs": [
    {
     "data": {
      "text/plain": [
       "51.557"
      ]
     },
     "execution_count": 21,
     "metadata": {},
     "output_type": "execute_result"
    }
   ],
   "source": [
    "dd(1,51,33,25.2)"
   ]
  },
  {
   "cell_type": "code",
   "execution_count": 22,
   "metadata": {},
   "outputs": [
    {
     "data": {
      "text/plain": [
       "-178.80416666666667"
      ]
     },
     "execution_count": 22,
     "metadata": {},
     "output_type": "execute_result"
    }
   ],
   "source": [
    "dd(-1,178,48,15)"
   ]
  },
  {
   "cell_type": "code",
   "execution_count": 23,
   "metadata": {},
   "outputs": [
    {
     "data": {
      "text/plain": [
       "16.622222222222224"
      ]
     },
     "execution_count": 23,
     "metadata": {},
     "output_type": "execute_result"
    }
   ],
   "source": [
    "dd(1,16,37,20)"
   ]
  },
  {
   "cell_type": "code",
   "execution_count": 24,
   "metadata": {},
   "outputs": [
    {
     "data": {
      "text/plain": [
       "120.32"
      ]
     },
     "execution_count": 24,
     "metadata": {},
     "output_type": "execute_result"
    }
   ],
   "source": [
    "dd(1,120,19,12)"
   ]
  },
  {
   "cell_type": "code",
   "execution_count": 32,
   "metadata": {},
   "outputs": [
    {
     "data": {
      "text/plain": [
       "48.85837"
      ]
     },
     "execution_count": 32,
     "metadata": {},
     "output_type": "execute_result"
    }
   ],
   "source": [
    "dd(1,48,51,30.132)"
   ]
  },
  {
   "cell_type": "code",
   "execution_count": 33,
   "metadata": {},
   "outputs": [
    {
     "data": {
      "text/plain": [
       "2.294481111111111"
      ]
     },
     "execution_count": 33,
     "metadata": {},
     "output_type": "execute_result"
    }
   ],
   "source": [
    "dd(1,2,17,40.132)"
   ]
  },
  {
   "cell_type": "code",
   "execution_count": 28,
   "metadata": {},
   "outputs": [
    {
     "name": "stdout",
     "output_type": "stream",
     "text": [
      "The distance between Kavalga Island and San Fernando is 4081.27 miles\n"
     ]
    }
   ],
   "source": [
    "import math\n",
    "radius = 6371\n",
    "lat1 = 51.557 * (math.pi/180)\n",
    "lon1 = -178.80416666666667 * (math.pi/180)\n",
    "lat2 = 16.622222222222224 * (math.pi/180)\n",
    "lon2 = 120.32 * (math.pi/180)\n",
    "\n",
    "latd = lat1-lat2\n",
    "lond = lon1-lon2\n",
    "\n",
    "a = math.sin(latd/2)**2 + math.cos(lat1) * math.cos(lat2) * math.sin(lond/2)**2\n",
    "\n",
    "c = 2 * math.atan2(math.sqrt(a), math.sqrt(1-a))\n",
    "\n",
    "d = round(radius * c * 0.621371,2) #miles\n",
    "\n",
    "print(f'The distance between Kavalga Island and San Fernando is {d} miles')"
   ]
  },
  {
   "cell_type": "code",
   "execution_count": 36,
   "metadata": {},
   "outputs": [
    {
     "name": "stdout",
     "output_type": "stream",
     "text": [
      "The distance between The Eiffel Tower and San Fernando is 6538.57 miles\n"
     ]
    }
   ],
   "source": [
    "#ET: 48.85837,2.294481111111111\n",
    "#SF: 16.622222222222224,120.32\n",
    "\n",
    "import math\n",
    "radius = 6371\n",
    "lat1 = 48.85837 * (math.pi/180)\n",
    "lon1 = 2.294481111111111 * (math.pi/180)\n",
    "lat2 = 16.622222222222224 * (math.pi/180)\n",
    "lon2 = 120.32 * (math.pi/180)\n",
    "\n",
    "latd = lat1-lat2\n",
    "lond = lon1-lon2\n",
    "\n",
    "a = math.sin(latd/2)**2 + math.cos(lat1) * math.cos(lat2) * math.sin(lond/2)**2\n",
    "\n",
    "c = 2 * math.atan2(math.sqrt(a), math.sqrt(1-a))\n",
    "\n",
    "d = round(radius * c * 0.621371,2) #miles\n",
    "\n",
    "print(f'The distance between The Eiffel Tower and San Fernando is {d} miles')"
   ]
  },
  {
   "cell_type": "code",
   "execution_count": null,
   "metadata": {},
   "outputs": [],
   "source": []
  }
 ],
 "metadata": {
  "kernelspec": {
   "display_name": "Python 3",
   "language": "python",
   "name": "python3"
  },
  "language_info": {
   "codemirror_mode": {
    "name": "ipython",
    "version": 3
   },
   "file_extension": ".py",
   "mimetype": "text/x-python",
   "name": "python",
   "nbconvert_exporter": "python",
   "pygments_lexer": "ipython3",
   "version": "3.8.5"
  }
 },
 "nbformat": 4,
 "nbformat_minor": 4
}
