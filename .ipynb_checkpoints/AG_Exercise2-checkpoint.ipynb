{
 "cells": [
  {
   "cell_type": "markdown",
   "metadata": {},
   "source": [
    "# Tabby Cat\n",
    "[Source: Wikipedia](https://en.wikipedia.org/wiki/Tabby_cat)\n",
    "Disclaimer: All materials are being used for demonstration purposes only\n",
    "\n",
    "A tabby is any domestic cat (Felis catus) with a distinctive 'M' shaped marking on its forehead, stripes by its eyes and across its cheeks, along its back, and around its legs and tail, and (differing by tabby type), characteristic striped, dotted, lined, flecked, banded or swirled patterns on the body—neck, shoulders, sides, flanks, chest and abdomen. \"Tabby\" is not a breed of cat but a coat type seen in almost all genetic lines of domestic cats, regardless of status.[1] The tabby pattern is found in many official cat breeds and is a hallmark of the landrace extremely common among the general population of cats around the world. The tabby pattern occurs naturally and is connected both to the coat of the domestic cat's direct ancestor and to those of their close relatives: the African wildcat (Felis lybica lybica), the European wildcat (Felis silvestris silvestris) and the Asiatic wildcat (Felis lybica ornata), all of which have similar coats, both by pattern and coloration. A genetic study of tabbies found five genetic clusters to be ancestral to cats of various parts of the world"
   ]
  },
  {
   "cell_type": "markdown",
   "metadata": {},
   "source": [
    "![Tabby Image](https://upload.wikimedia.org/wikipedia/commons/thumb/4/4d/Cat_November_2010-1a.jpg/1280px-Cat_November_2010-1a.jpg)\n",
    "[Citation](https://commons.wikimedia.org/w/index.php?curid=12127693)"
   ]
  },
  {
   "cell_type": "markdown",
   "metadata": {},
   "source": [
    "## Etymology\n",
    "\n",
    "The English term tabby originates from the translation of the French phrase \"striped silk taffeta,\" the root of which is tabis, meaning \"a rich watered silk.\" This can be further traced to the Middle French atabis (14th century), which stemmed from the Arabic term attabiya. This word is a reference to the Attabiya district of Baghdad, noted for its striped cloth and silk;Itself named after the Ummayad Governor of Mecca Attab ibn Asid such silk cloth became popular in the Muslim world and spread to England, where the word \"tabby\" became commonly used in the 17th and 18th centuries. Tabby is also comparable to the Spanish word ataviar, which means \"to decorate or to dress or wear\" and often implies luxurious clothing. Use of the term tabby cat for a cat with a striped coat began in the 1690s and was shortened to tabby in 1774. The notion that tabby is indicative of a female cat may be due to the feminine proper name Tabby as a shortened form of Tabitha."
   ]
  },
  {
   "cell_type": "markdown",
   "metadata": {},
   "source": [
    "![Drawing](https://upload.wikimedia.org/wikipedia/commons/b/b0/PSM_V37_D105_English_tabby_cat.jpg)\n",
    "[By Unknown author - Popular Science Monthly Volume 37, Public Domain,](https://commons.wikimedia.org/w/index.php?curid=11855477)"
   ]
  },
  {
   "cell_type": "markdown",
   "metadata": {},
   "source": [
    "## Patterns\n",
    "\n",
    "The four known distinct patterns, each having a sound genetic explanation, are the mackerel, classic, ticked and spotted tabby patterns.\n",
    "\n",
    "A fifth pattern is formed by any of the four basic patterns when part of a patched pattern—a patched tabby, then, is a calico or tortoiseshell cat with patches of tabby coat (such cats are called caliby and torbie, respectively, in cat fancy).\n",
    "\n",
    "All five patterns have been observed in random-bred populations. Several additional patterns are found in specific breeds and so are not as well known in general. For example, a modified classic tabby is found in the Sokoke breed. Some of these rarer patterns are due to the interaction of wild and domestic genes, as with the rosetted and marbled patterns found in the Bengal breed."
   ]
  },
  {
   "cell_type": "markdown",
   "metadata": {},
   "source": [
    "### Mackerel tabby\n",
    "\n",
    "The mackerel tabby pattern gives slender vertical, gently curving stripes on the sides of the body. These stripes may be continuous or broken into bars and short segments/spots, especially on the flanks and stomach. Three or five vertical lines in an 'M' shape almost always appear on the forehead, along with dark lines from the corners of the eyes, one or more crossing each cheek, and of course many stripes and lines at various angles on the neck and shoulder area, on the flanks, and around the legs and tail, marks which are more or less perpendicular to the length of the body part. Mackerel tabbies are also called 'fishbone tabbies,' probably doubly named after the mackerel fish. Mackerels are the most common among tabbies."
   ]
  },
  {
   "cell_type": "markdown",
   "metadata": {},
   "source": [
    "![Mackerel tabby image](https://upload.wikimedia.org/wikipedia/commons/thumb/d/da/Tabby_cat_face_side.jpg/1920px-Tabby_cat_face_side.jpg)\n",
    "[By Bellezzasolo - Own work, CC BY-SA 4.0,](https://commons.wikimedia.org/w/index.php?curid=67415448)"
   ]
  },
  {
   "cell_type": "markdown",
   "metadata": {},
   "source": [
    "### Classic tabby\n",
    "\n",
    "The classic tabby (also known as blotched or marbled tabby) has the 'M' pattern on the forehead but the body markings, rather than primarily thin stripes or spots, are thick curving bands in a whirled or swirled pattern with a distinctive mark on each side of the body resembling a bullseye. Classic black tabbies tend to have dark browns, olives and ochres that stand out more against their blacks and classic orange tabbies have richer, fuller fields of red than their mackerel counterparts. Classic tabbies each have a light-colored \"butterfly\" pattern on the shoulders and three thin stripes (the center stripe being darkest) running along the spine. Classic tabbies have thick stripes, bands and/or bars on the legs, tail, and cheeks. Classic tabby is a recessive trait. Classic tabbies are the most common type of tabby in much of the United Kingdom and the Middle East, among other places, but they are a far second in number to mackerel tabbies in most parts of the world."
   ]
  },
  {
   "cell_type": "markdown",
   "metadata": {},
   "source": [
    "### Ticked tabby\n",
    "\n",
    "The ticked tabby pattern is due to even fields of agouti hairs, each with distinct bands of color, which break up the tabby patterning into a salt-and-pepper appearance that makes them look sand-like—thus there are few to no stripes or bands. Residual ghost striping and/or barring can often be seen on the lower legs, face, and belly and sometimes at the tail tip, as well as the standard 'M' and a long dark line running along the spine, primarily in ticked tabbies who also carry a mackerel or classic tabby allele. These types of cats come in many forms and colors."
   ]
  },
  {
   "cell_type": "markdown",
   "metadata": {},
   "source": [
    "![Ticked Tabby](cat.jpg)"
   ]
  },
  {
   "cell_type": "markdown",
   "metadata": {},
   "source": [
    "### Orange tabby\n",
    "\n",
    "The orange tabby is a variant of any of the above tabby patterns, having phaeomelanin instead of eumelanin. It is orange and white, usually having a white underside and paws, while its back is usually orange. There can be darker orange markings such as spots or stripes on the orange areas, but the white areas are mostly a solid color. The ratios between orange and white can greatly vary, but can range from a few orange spots on the back of a white cat to a thin white stripe down the stomach, or sometimes no white at all. Usually they have either a white spot on their face that covers their mouth and sides of their face, and comes to a point around their forehead; or their faces will be orange, and they will only have white starting on the bottom of their head or on their neck.\n",
    "\n",
    "The majority of orange tabby cats are male. About 20% of orange tabbies are estimated to be female. The orange coloring is found on the X chromosome. Female cats have XX chromosomes to the male's XY. Thus, both the mother and father cat must pass on the genes to the female, but males only need the trait from their mothers."
   ]
  },
  {
   "cell_type": "markdown",
   "metadata": {},
   "source": [
    "## Genetic explanations\n",
    "\n",
    "The four basic tabby patterns are due to two distinct gene loci (the agouti gene locus, with two alleles, and the tabby locus, with three alleles) and one modifier (spotted, with two alleles). The fifth pattern is an emergent one expressed by female cats with one black and one orange gene (one on each of their two X chromosomes) and is explained by Barr bodies and the genetics of sex-linked inheritance.\n",
    "\n",
    "The agouti gene, with its two alleles, A and a,[11] controls whether or not the tabby pattern is expressed. The dominant A expresses the underlying tabby pattern, while the recessive non-agouti or \"hypermelanistic\" allele, a, does not. Solid-color (black or blue) cats have the aa combination, hiding the tabby pattern, although sometimes a suggestion of the underlying pattern can be seen (\"ghost striping\"). This underlying pattern, whether classic, mackerel, ticked or spotted, is most easily distinguishable under bright light in the early stages of kittenhood and in on the tail in adulthood.\n",
    "\n",
    "However, the agouti gene primarily controls the production of black pigment, so a cat with an O allele for orange color will still express the tabby pattern. As a result, both red cats and the patches of red on tortoiseshell cats will always show tabby patterning, though sometimes the stripes are muted—especially in cream and blue/cream cats due to the pigment dilution.\n",
    "\n",
    "The most common tabby pattern is mackerel and its Tm allele at the tabby gene locus is dominant over the classic (or blotched) allele, Tb. So a cat with a TmTm or TmTb genotype sets the basic pattern of thin stripes (mackerel tabby) that underlies the coat, while a TbTb cat will express a classic tabby coat pattern with thick bands and a ring or concentric stripes on its sides.\n",
    "\n",
    "The ticked tabby pattern is a result of a different allele at the same gene locus as the mackerel and classic tabby patterns and this allele is dominant over the others. So a TaTa genotype as well as TaTm and TaTb genotypes will be ticked tabbies. The ticked tabby coat essentially masks any other tabby pattern, producing a non-patterned, or agouti tabby (much like the wild type agouti coat of many other mammals and the sable coat of dogs), with virtually no stripes or bars. If the ticked allele is present, no other tabby pattern will be expressed. The ticked allele actually shows incomplete dominance: cats homozygous for the ticked allele (TaTa) have less barring than cats heterozygous for the ticked allele (TaTm or TaTb).\n",
    "\n",
    "The spotted gene is a separate locus theorized to be directly connected to the Tm allele; it 'breaks' the lines and thin stripes of a mackerel tabby, creating spots. The spotted gene has a dominant and a recessive allele as well, which means a spotted cat will have an Sp Sp or Sp sp genotype along with at least one Tm allele and at least one A allele at those alleles’ respective loci."
   ]
  },
  {
   "cell_type": "markdown",
   "metadata": {},
   "source": [
    "## History\n",
    "\n",
    "Since the tabby pattern is a common wild type, it might be assumed that medieval cats were tabbies. However, one writer believed this to be untrue, at least in England. Sometime after the mid-17th century, the natural philosopher John Aubrey noted that William Laud, the Archbishop of Canterbury was \"a great lover of Cats\" and \"was presented with some Cyprus-cats, i.e. our Tabby-Cats\". He then claimed that \"I doe [sic] well remember that the common English Catt, was white with some blueish piednesse (i.e. white with grey parts). The race or breed of them is now almost lost.\" However, most drawings or paintings of cats in medieval manuscripts do show them to be tabbies."
   ]
  },
  {
   "cell_type": "markdown",
   "metadata": {},
   "source": [
    "![European Wildcat](wildcat.jpg)"
   ]
  },
  {
   "cell_type": "markdown",
   "metadata": {},
   "source": [
    "## Notable examples\n",
    "\n",
    "Well-known tabby cats include Think Think, one of two cats belonging to the President of Taiwan, Tsai Ing-wen. One of the first mass-produced stuffed toys, the Ithaca Kitty, was inspired by a grey tabby cat with seven toes on each front foot.\n",
    "\n",
    "While no very famous real or fictional black tabbies have come along (aside perhaps from Abraham Lincoln’s cat Tabby) the blue mackerel tabby All Ball of the famous gorilla Koko is well known and several red tabbies have entertained people over the years: Heathcliff and Garfield from newspaper comic strips are both orange with black stripes, as is Bill The Cat from Bloom County; Azrael from The Smurfs is solid orange in the cartoons and, as red cats who appear solid are extremely rare, a red mackerel in the live action movie; Thomasina from Disney’s 1963 movie based on a 1957 novel about a cat who lives three lives is an orange mackerel tabby.\n",
    "\n",
    "The Chesapeake and Ohio Railway (C&O) once featured a gray or brown Tabby named Chessie as part of its Advertisement scheme. Chessie, and the slogan \"Sleep Like a Kitten\" was created in 1933 to market sleeper cars on the C&O's premier passenger trains. Three more Tabbies were added in 1937, Peake who was Chessie's \"husband\" and kittens Nip and Tuck. During World War 2, the C&O used Chessie and the Kittens to promote war bonds and the Home Front. In 1972, Chessie's silhouette would be used to create the logo for Chessie System, the successor to C&O. Even today, Chessie is still remembered as one of the most iconic mascots in railroading and marketing history.\n",
    "\n",
    "The 1989 film The Adventures of Milo and Otis features an orange tabby named Milo, known as the titular character in its original 1986 Japanese version The Adventures of Chatran, portrayed by multiple animal actors."
   ]
  },
  {
   "cell_type": "code",
   "execution_count": null,
   "metadata": {},
   "outputs": [],
   "source": []
  }
 ],
 "metadata": {
  "kernelspec": {
   "display_name": "Python 3",
   "language": "python",
   "name": "python3"
  },
  "language_info": {
   "codemirror_mode": {
    "name": "ipython",
    "version": 3
   },
   "file_extension": ".py",
   "mimetype": "text/x-python",
   "name": "python",
   "nbconvert_exporter": "python",
   "pygments_lexer": "ipython3",
   "version": "3.8.5"
  }
 },
 "nbformat": 4,
 "nbformat_minor": 4
}
